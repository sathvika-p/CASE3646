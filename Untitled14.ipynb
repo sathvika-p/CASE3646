{
  "nbformat": 4,
  "nbformat_minor": 0,
  "metadata": {
    "colab": {
      "provenance": [],
      "authorship_tag": "ABX9TyPhOrvsRCLEt9ecA5AT34mj",
      "include_colab_link": true
    },
    "kernelspec": {
      "name": "python3",
      "display_name": "Python 3"
    },
    "language_info": {
      "name": "python"
    }
  },
  "cells": [
    {
      "cell_type": "markdown",
      "metadata": {
        "id": "view-in-github",
        "colab_type": "text"
      },
      "source": [
        "<a href=\"https://colab.research.google.com/github/sathvika-p/CASE3646/blob/main/Untitled14.ipynb\" target=\"_parent\"><img src=\"https://colab.research.google.com/assets/colab-badge.svg\" alt=\"Open In Colab\"/></a>"
      ]
    },
    {
      "cell_type": "code",
      "execution_count": null,
      "metadata": {
        "colab": {
          "base_uri": "https://localhost:8080/"
        },
        "id": "mI6HDCtKN9fk",
        "outputId": "7bbcb401-dfd8-4901-f2a5-3de22e6f0334"
      },
      "outputs": [
        {
          "output_type": "stream",
          "name": "stdout",
          "text": [
            "['normal']\n",
            "0.8888888888888888\n"
          ]
        },
        {
          "output_type": "stream",
          "name": "stderr",
          "text": [
            "/usr/local/lib/python3.10/dist-packages/sklearn/neighbors/_classification.py:238: DataConversionWarning: A column-vector y was passed when a 1d array was expected. Please change the shape of y to (n_samples,), for example using ravel().\n",
            "  return self._fit(X, y)\n",
            "/usr/local/lib/python3.10/dist-packages/sklearn/base.py:493: UserWarning: X does not have valid feature names, but KNeighborsClassifier was fitted with feature names\n",
            "  warnings.warn(\n"
          ]
        }
      ],
      "source": [
        "import pandas as np\n",
        "from sklearn.neighbors import KNeighborsClassifier\n",
        "reddy=np.read_csv('bmi.csv')\n",
        "feature=np.read_csv('bmi.csv',usecols=[0,1])\n",
        "label=np.read_csv('bmi.csv',usecols=[2])\n",
        "a=KNeighborsClassifier(n_neighbors=2)\n",
        "a.fit(feature,label)\n",
        "print(a.predict([[170,57]]))\n",
        "print(a.score(feature,label))"
      ]
    },
    {
      "cell_type": "code",
      "source": [
        "import pandas as np\n",
        "from sklearn.neighbors import KNeighborsClassifier\n",
        "reddy=np.read_csv('drowsy.csv')\n",
        "feature=np.read_csv('drowsy.csv',usecols=[0,1,2,3])\n",
        "label=np.read_csv('drowsy.csv',usecols=[4])\n",
        "a=KNeighborsClassifier(n_neighbors=1)\n",
        "a.fit(feature,label)\n",
        "print(a.predict([[0.3,10,1,9]]))\n",
        "print(a.score(feature,label))"
      ],
      "metadata": {
        "colab": {
          "base_uri": "https://localhost:8080/"
        },
        "id": "erOpERhjWbbs",
        "outputId": "01dd9a1a-8e63-45aa-cfc6-b183ff26ef8f"
      },
      "execution_count": null,
      "outputs": [
        {
          "output_type": "stream",
          "name": "stdout",
          "text": [
            "['Drowsy']\n",
            "1.0\n"
          ]
        },
        {
          "output_type": "stream",
          "name": "stderr",
          "text": [
            "/usr/local/lib/python3.10/dist-packages/sklearn/neighbors/_classification.py:238: DataConversionWarning: A column-vector y was passed when a 1d array was expected. Please change the shape of y to (n_samples,), for example using ravel().\n",
            "  return self._fit(X, y)\n",
            "/usr/local/lib/python3.10/dist-packages/sklearn/base.py:493: UserWarning: X does not have valid feature names, but KNeighborsClassifier was fitted with feature names\n",
            "  warnings.warn(\n"
          ]
        }
      ]
    }
  ]
}